{
 "cells": [
  {
   "cell_type": "code",
   "execution_count": null,
   "id": "fb2e1573-bc17-41dd-8dc4-676333a374e9",
   "metadata": {},
   "outputs": [],
   "source": [
    "File.read([n])"
   ]
  },
  {
   "cell_type": "code",
   "execution_count": null,
   "id": "c3156213-eb40-4c04-9b18-ee70e760ffdb",
   "metadata": {},
   "outputs": [],
   "source": [
    "File_object.readline([n])"
   ]
  },
  {
   "cell_type": "code",
   "execution_count": null,
   "id": "a0e7b539-0205-4a38-8603-04270118798b",
   "metadata": {},
   "outputs": [],
   "source": [
    "File_object.readline([-n])"
   ]
  },
  {
   "cell_type": "code",
   "execution_count": null,
   "id": "4a7741a9-f891-4f3a-a06a-ecc72fd20fc8",
   "metadata": {},
   "outputs": [],
   "source": [
    "def count_words(filepath):\n",
    "   with open(filepath) as f:\n",
    "       data = f.read()\n",
    "       data.replace(\",\", \" \")\n",
    "       return len(data.split(\" \"))\n",
    "print(count_words(\"words.txt\"))"
   ]
  },
  {
   "cell_type": "code",
   "execution_count": null,
   "id": "b2f7b30e-d5cb-47e2-a3cc-cdf98df023dc",
   "metadata": {},
   "outputs": [],
   "source": [
    "def read_lastnlines(fname,n):\n",
    "    with open('file1.txt') as f:\n",
    "        for line in (f.readlines() [-n:]):\n",
    "            print(line)\n",
    "\n",
    "read_lastnlines('file1.txt',3)"
   ]
  }
 ],
 "metadata": {
  "kernelspec": {
   "display_name": "Python 3 (ipykernel)",
   "language": "python",
   "name": "python3"
  },
  "language_info": {
   "codemirror_mode": {
    "name": "ipython",
    "version": 3
   },
   "file_extension": ".py",
   "mimetype": "text/x-python",
   "name": "python",
   "nbconvert_exporter": "python",
   "pygments_lexer": "ipython3",
   "version": "3.9.7"
  }
 },
 "nbformat": 4,
 "nbformat_minor": 5
}
