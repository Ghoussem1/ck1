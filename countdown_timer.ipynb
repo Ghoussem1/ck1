{
  "nbformat": 4,
  "nbformat_minor": 0,
  "metadata": {
    "colab": {
      "name": "countdown timer.ipynb",
      "provenance": [],
      "authorship_tag": "ABX9TyO6juJ5gT2ThDGNnImW3dZP",
      "include_colab_link": true
    },
    "kernelspec": {
      "name": "python3",
      "display_name": "Python 3"
    },
    "language_info": {
      "name": "python"
    }
  },
  "cells": [
    {
      "cell_type": "markdown",
      "metadata": {
        "id": "view-in-github",
        "colab_type": "text"
      },
      "source": [
        "<a href=\"https://colab.research.google.com/github/Ghoussem1/ck1/blob/main/countdown_timer.ipynb\" target=\"_parent\"><img src=\"https://colab.research.google.com/assets/colab-badge.svg\" alt=\"Open In Colab\"/></a>"
      ]
    },
    {
      "cell_type": "code",
      "execution_count": 1,
      "metadata": {
        "id": "vsuuWjwCOgrH"
      },
      "outputs": [],
      "source": [
        "import time"
      ]
    },
    {
      "cell_type": "code",
      "source": [
        "def countdouwn(T):\n",
        "  while T:\n",
        "    mins, secs = divmod(T,60)\n",
        "    timer = '{:02d}:{:02d}'.format(mins,secs)\n",
        "    print(timer,end='\\r')\n",
        "    time.sleep(1)\n",
        "    T-= 1\n",
        "  print('Fire in the hole')\n",
        "T = input('Saisie Temp: ')\n",
        "countdouwn(int(T))"
      ],
      "metadata": {
        "colab": {
          "base_uri": "https://localhost:8080/"
        },
        "id": "Ol6_YUruOy2u",
        "outputId": "f375af4c-23e8-41e6-ec81-6af76f3eb81b"
      },
      "execution_count": 16,
      "outputs": [
        {
          "output_type": "stream",
          "name": "stdout",
          "text": [
            "Saisie Temp: 5\n",
            "Fire in the hole\n"
          ]
        }
      ]
    },
    {
      "cell_type": "code",
      "source": [
        ""
      ],
      "metadata": {
        "id": "KFtx4WQRRBz7"
      },
      "execution_count": null,
      "outputs": []
    }
  ]
}